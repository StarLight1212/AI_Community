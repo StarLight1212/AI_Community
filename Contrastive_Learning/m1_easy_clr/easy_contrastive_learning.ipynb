{
  "nbformat": 4,
  "nbformat_minor": 0,
  "metadata": {
    "kernelspec": {
      "display_name": "pytorch",
      "language": "python",
      "name": "pytorch"
    },
    "language_info": {
      "codemirror_mode": {
        "name": "ipython",
        "version": 3
      },
      "file_extension": ".py",
      "mimetype": "text/x-python",
      "name": "python",
      "nbconvert_exporter": "python",
      "pygments_lexer": "ipython3",
      "version": "3.6.6"
    },
    "colab": {
      "name": "Copy of mini-batch-logistic-regression-evaluator.ipynb",
      "provenance": [],
      "gpuType": "T4"
    },
    "accelerator": "GPU"
  },
  "cells": [
    {
      "cell_type": "code",
      "metadata": {
        "id": "YUemQib7ZE4D"
      },
      "source": [
        "import torch\n",
        "import sys\n",
        "import numpy as np\n",
        "import os\n",
        "import yaml\n",
        "import matplotlib.pyplot as plt\n",
        "import torchvision"
      ],
      "execution_count": 3,
      "outputs": []
    },
    {
      "cell_type": "code",
      "metadata": {
        "id": "WSgRE1CcLqdS",
        "colab": {
          "base_uri": "https://localhost:8080/"
        },
        "outputId": "671d6c01-0f1e-4063-d622-6ac0ee065462"
      },
      "source": [
        "!pip install gdown torch torchvision matplotlib numpy"
      ],
      "execution_count": 1,
      "outputs": [
        {
          "output_type": "stream",
          "name": "stdout",
          "text": [
            "Requirement already satisfied: gdown in /usr/local/lib/python3.10/dist-packages (5.2.0)\n",
            "Requirement already satisfied: torch in /usr/local/lib/python3.10/dist-packages (2.5.1+cu121)\n",
            "Requirement already satisfied: torchvision in /usr/local/lib/python3.10/dist-packages (0.20.1+cu121)\n",
            "Requirement already satisfied: matplotlib in /usr/local/lib/python3.10/dist-packages (3.8.0)\n",
            "Requirement already satisfied: numpy in /usr/local/lib/python3.10/dist-packages (1.26.4)\n",
            "Requirement already satisfied: beautifulsoup4 in /usr/local/lib/python3.10/dist-packages (from gdown) (4.12.3)\n",
            "Requirement already satisfied: filelock in /usr/local/lib/python3.10/dist-packages (from gdown) (3.16.1)\n",
            "Requirement already satisfied: requests[socks] in /usr/local/lib/python3.10/dist-packages (from gdown) (2.32.3)\n",
            "Requirement already satisfied: tqdm in /usr/local/lib/python3.10/dist-packages (from gdown) (4.66.6)\n",
            "Requirement already satisfied: typing-extensions>=4.8.0 in /usr/local/lib/python3.10/dist-packages (from torch) (4.12.2)\n",
            "Requirement already satisfied: networkx in /usr/local/lib/python3.10/dist-packages (from torch) (3.4.2)\n",
            "Requirement already satisfied: jinja2 in /usr/local/lib/python3.10/dist-packages (from torch) (3.1.4)\n",
            "Requirement already satisfied: fsspec in /usr/local/lib/python3.10/dist-packages (from torch) (2024.10.0)\n",
            "Requirement already satisfied: sympy==1.13.1 in /usr/local/lib/python3.10/dist-packages (from torch) (1.13.1)\n",
            "Requirement already satisfied: mpmath<1.4,>=1.1.0 in /usr/local/lib/python3.10/dist-packages (from sympy==1.13.1->torch) (1.3.0)\n",
            "Requirement already satisfied: pillow!=8.3.*,>=5.3.0 in /usr/local/lib/python3.10/dist-packages (from torchvision) (11.0.0)\n",
            "Requirement already satisfied: contourpy>=1.0.1 in /usr/local/lib/python3.10/dist-packages (from matplotlib) (1.3.1)\n",
            "Requirement already satisfied: cycler>=0.10 in /usr/local/lib/python3.10/dist-packages (from matplotlib) (0.12.1)\n",
            "Requirement already satisfied: fonttools>=4.22.0 in /usr/local/lib/python3.10/dist-packages (from matplotlib) (4.55.0)\n",
            "Requirement already satisfied: kiwisolver>=1.0.1 in /usr/local/lib/python3.10/dist-packages (from matplotlib) (1.4.7)\n",
            "Requirement already satisfied: packaging>=20.0 in /usr/local/lib/python3.10/dist-packages (from matplotlib) (24.2)\n",
            "Requirement already satisfied: pyparsing>=2.3.1 in /usr/local/lib/python3.10/dist-packages (from matplotlib) (3.2.0)\n",
            "Requirement already satisfied: python-dateutil>=2.7 in /usr/local/lib/python3.10/dist-packages (from matplotlib) (2.8.2)\n",
            "Requirement already satisfied: six>=1.5 in /usr/local/lib/python3.10/dist-packages (from python-dateutil>=2.7->matplotlib) (1.16.0)\n",
            "Requirement already satisfied: soupsieve>1.2 in /usr/local/lib/python3.10/dist-packages (from beautifulsoup4->gdown) (2.6)\n",
            "Requirement already satisfied: MarkupSafe>=2.0 in /usr/local/lib/python3.10/dist-packages (from jinja2->torch) (3.0.2)\n",
            "Requirement already satisfied: charset-normalizer<4,>=2 in /usr/local/lib/python3.10/dist-packages (from requests[socks]->gdown) (3.4.0)\n",
            "Requirement already satisfied: idna<4,>=2.5 in /usr/local/lib/python3.10/dist-packages (from requests[socks]->gdown) (3.10)\n",
            "Requirement already satisfied: urllib3<3,>=1.21.1 in /usr/local/lib/python3.10/dist-packages (from requests[socks]->gdown) (2.2.3)\n",
            "Requirement already satisfied: certifi>=2017.4.17 in /usr/local/lib/python3.10/dist-packages (from requests[socks]->gdown) (2024.8.30)\n",
            "Requirement already satisfied: PySocks!=1.5.7,>=1.5.6 in /usr/local/lib/python3.10/dist-packages (from requests[socks]->gdown) (1.7.1)\n"
          ]
        }
      ]
    },
    {
      "cell_type": "code",
      "source": [
        "!pip install pyyaml"
      ],
      "metadata": {
        "id": "Bx5VvUIUzYm8",
        "outputId": "77ff9424-3d05-492d-bbe4-1750349eee13",
        "colab": {
          "base_uri": "https://localhost:8080/"
        }
      },
      "execution_count": 2,
      "outputs": [
        {
          "output_type": "stream",
          "name": "stdout",
          "text": [
            "Requirement already satisfied: pyyaml in /usr/local/lib/python3.10/dist-packages (6.0.2)\n"
          ]
        }
      ]
    },
    {
      "cell_type": "code",
      "metadata": {
        "id": "NOIJEui1ZziV"
      },
      "source": [
        "def get_file_id_by_model(folder_name):\n",
        "  file_id = {'resnet18_100-epochs_stl10': '14_nH2FkyKbt61cieQDiSbBVNP8-gtwgF',\n",
        "             'resnet18_100-epochs_cifar10': '1lc2aoVtrAetGn0PnTkOyFzPCIucOJq7C',\n",
        "             'resnet50_50-epochs_stl10': '1ByTKAUsdm_X7tLcii6oAEl5qFRqRMZSu'}\n",
        "  return file_id.get(folder_name, \"Model not found.\")"
      ],
      "execution_count": 4,
      "outputs": []
    },
    {
      "cell_type": "code",
      "metadata": {
        "id": "G7YMxsvEZMrX",
        "colab": {
          "base_uri": "https://localhost:8080/"
        },
        "outputId": "aac61228-503b-460d-df97-09d131f2c32e"
      },
      "source": [
        "folder_name = 'resnet50_50-epochs_stl10'\n",
        "file_id = get_file_id_by_model(folder_name)\n",
        "print(folder_name, file_id)"
      ],
      "execution_count": 5,
      "outputs": [
        {
          "output_type": "stream",
          "name": "stdout",
          "text": [
            "resnet50_50-epochs_stl10 1ByTKAUsdm_X7tLcii6oAEl5qFRqRMZSu\n"
          ]
        }
      ]
    },
    {
      "cell_type": "code",
      "metadata": {
        "id": "PWZ8fet_YoJm",
        "colab": {
          "base_uri": "https://localhost:8080/"
        },
        "outputId": "d640fd79-5260-45d4-d4b1-bd8177e2db89"
      },
      "source": [
        "# download and extract model files\n",
        "os.system('gdown https://drive.google.com/uc?id={}'.format(file_id))\n",
        "os.system('unzip {}'.format(folder_name))\n",
        "!ls"
      ],
      "execution_count": 6,
      "outputs": [
        {
          "output_type": "stream",
          "name": "stdout",
          "text": [
            "checkpoint_0040.pth.tar  events.out.tfevents.1610927742.4cb2c837708d.2694093.0\tsample_data\n",
            "config.yml\t\t resnet50_50-epochs_stl10.zip\t\t\t\ttraining.log\n"
          ]
        }
      ]
    },
    {
      "cell_type": "code",
      "metadata": {
        "id": "3_nypQVEv-hn"
      },
      "source": [
        "from torch.utils.data import DataLoader\n",
        "import torchvision.transforms as transforms\n",
        "from torchvision import datasets"
      ],
      "execution_count": 7,
      "outputs": []
    },
    {
      "cell_type": "code",
      "metadata": {
        "id": "lDfbL3w_Z0Od",
        "colab": {
          "base_uri": "https://localhost:8080/"
        },
        "outputId": "15582b87-fcaa-461c-a00d-89c518d1c5ec"
      },
      "source": [
        "device = 'cuda' if torch.cuda.is_available() else 'cpu'\n",
        "print(\"Using device:\", device)"
      ],
      "execution_count": 8,
      "outputs": [
        {
          "output_type": "stream",
          "name": "stdout",
          "text": [
            "Using device: cuda\n"
          ]
        }
      ]
    },
    {
      "cell_type": "code",
      "metadata": {
        "id": "BfIPl0G6_RrT"
      },
      "source": [
        "def get_stl10_data_loaders(download, shuffle=False, batch_size=256):\n",
        "  train_dataset = datasets.STL10('./data', split='train', download=download,\n",
        "                                  transform=transforms.ToTensor())\n",
        "\n",
        "  train_loader = DataLoader(train_dataset, batch_size=batch_size,\n",
        "                            num_workers=0, drop_last=False, shuffle=shuffle)\n",
        "\n",
        "  test_dataset = datasets.STL10('./data', split='test', download=download,\n",
        "                                  transform=transforms.ToTensor())\n",
        "\n",
        "  test_loader = DataLoader(test_dataset, batch_size=2*batch_size,\n",
        "                            num_workers=10, drop_last=False, shuffle=shuffle)\n",
        "  return train_loader, test_loader\n",
        "\n",
        "def get_cifar10_data_loaders(download, shuffle=False, batch_size=256):\n",
        "  train_dataset = datasets.CIFAR10('./data', train=True, download=download,\n",
        "                                  transform=transforms.ToTensor())\n",
        "\n",
        "  train_loader = DataLoader(train_dataset, batch_size=batch_size,\n",
        "                            num_workers=0, drop_last=False, shuffle=shuffle)\n",
        "\n",
        "  test_dataset = datasets.CIFAR10('./data', train=False, download=download,\n",
        "                                  transform=transforms.ToTensor())\n",
        "\n",
        "  test_loader = DataLoader(test_dataset, batch_size=2*batch_size,\n",
        "                            num_workers=10, drop_last=False, shuffle=shuffle)\n",
        "  return train_loader, test_loader"
      ],
      "execution_count": 9,
      "outputs": []
    },
    {
      "cell_type": "code",
      "metadata": {
        "id": "6N8lYkbmDTaK"
      },
      "source": [
        "# 加载配置\n",
        "config = yaml.load(open('./config.yml', 'r'), Loader=yaml.FullLoader)\n",
        "\n",
        "# 如果需要将 device 转换为 torch.device 对象\n",
        "config['device'] = torch.device(config['device'])"
      ],
      "execution_count": 11,
      "outputs": []
    },
    {
      "cell_type": "code",
      "metadata": {
        "id": "a18lPD-tIle6",
        "outputId": "c6dc5bae-d8fd-4ff5-91a3-2aee7c47b4da",
        "colab": {
          "base_uri": "https://localhost:8080/"
        }
      },
      "source": [
        "if config['arch'] == 'resnet18':\n",
        "  model = torchvision.models.resnet18(pretrained=False, num_classes=10).to(device)\n",
        "elif config['arch'] == 'resnet50':\n",
        "  model = torchvision.models.resnet50(pretrained=False, num_classes=10).to(device)"
      ],
      "execution_count": 12,
      "outputs": [
        {
          "output_type": "stream",
          "name": "stderr",
          "text": [
            "/usr/local/lib/python3.10/dist-packages/torchvision/models/_utils.py:208: UserWarning: The parameter 'pretrained' is deprecated since 0.13 and may be removed in the future, please use 'weights' instead.\n",
            "  warnings.warn(\n",
            "/usr/local/lib/python3.10/dist-packages/torchvision/models/_utils.py:223: UserWarning: Arguments other than a weight enum or `None` for 'weights' are deprecated since 0.13 and may be removed in the future. The current behavior is equivalent to passing `weights=None`.\n",
            "  warnings.warn(msg)\n"
          ]
        }
      ]
    },
    {
      "cell_type": "code",
      "metadata": {
        "id": "4AIfgq41GuTT",
        "outputId": "8b2698a8-1b21-4fd8-d019-11a3d7be6685",
        "colab": {
          "base_uri": "https://localhost:8080/"
        }
      },
      "source": [
        "checkpoint = torch.load('checkpoint_0040.pth.tar', map_location=device)\n",
        "state_dict = checkpoint['state_dict']\n",
        "\n",
        "for k in list(state_dict.keys()):\n",
        "\n",
        "  if k.startswith('backbone.'):\n",
        "    if k.startswith('backbone') and not k.startswith('backbone.fc'):\n",
        "      # remove prefix\n",
        "      state_dict[k[len(\"backbone.\"):]] = state_dict[k]\n",
        "  del state_dict[k]"
      ],
      "execution_count": 13,
      "outputs": [
        {
          "output_type": "stream",
          "name": "stderr",
          "text": [
            "<ipython-input-13-42894e183641>:1: FutureWarning: You are using `torch.load` with `weights_only=False` (the current default value), which uses the default pickle module implicitly. It is possible to construct malicious pickle data which will execute arbitrary code during unpickling (See https://github.com/pytorch/pytorch/blob/main/SECURITY.md#untrusted-models for more details). In a future release, the default value for `weights_only` will be flipped to `True`. This limits the functions that could be executed during unpickling. Arbitrary objects will no longer be allowed to be loaded via this mode unless they are explicitly allowlisted by the user via `torch.serialization.add_safe_globals`. We recommend you start setting `weights_only=True` for any use case where you don't have full control of the loaded file. Please open an issue on GitHub for any issues related to this experimental feature.\n",
            "  checkpoint = torch.load('checkpoint_0040.pth.tar', map_location=device)\n"
          ]
        }
      ]
    },
    {
      "cell_type": "code",
      "metadata": {
        "id": "VVjA83PPJYWl"
      },
      "source": [
        "log = model.load_state_dict(state_dict, strict=False)\n",
        "assert log.missing_keys == ['fc.weight', 'fc.bias']"
      ],
      "execution_count": 14,
      "outputs": []
    },
    {
      "cell_type": "code",
      "metadata": {
        "id": "_GC0a14uWRr6",
        "colab": {
          "base_uri": "https://localhost:8080/"
        },
        "outputId": "ae9f9c3c-5ca5-4e19-b269-3750025e09a6"
      },
      "source": [
        "if config['dataset_name'] == 'cifar10':\n",
        "  train_loader, test_loader = get_cifar10_data_loaders(download=True)\n",
        "elif config['dataset_name'] == 'stl10':\n",
        "  train_loader, test_loader = get_stl10_data_loaders(download=True)\n",
        "print(\"Dataset:\", config['dataset_name'])"
      ],
      "execution_count": 15,
      "outputs": [
        {
          "output_type": "stream",
          "name": "stdout",
          "text": [
            "Downloading http://ai.stanford.edu/~acoates/stl10/stl10_binary.tar.gz to ./data/stl10_binary.tar.gz\n"
          ]
        },
        {
          "output_type": "stream",
          "name": "stderr",
          "text": [
            "100%|██████████| 2.64G/2.64G [06:00<00:00, 7.32MB/s]\n"
          ]
        },
        {
          "output_type": "stream",
          "name": "stdout",
          "text": [
            "Extracting ./data/stl10_binary.tar.gz to ./data\n",
            "Files already downloaded and verified\n",
            "Dataset: stl10\n"
          ]
        },
        {
          "output_type": "stream",
          "name": "stderr",
          "text": [
            "/usr/local/lib/python3.10/dist-packages/torch/utils/data/dataloader.py:617: UserWarning: This DataLoader will create 10 worker processes in total. Our suggested max number of worker in current system is 2, which is smaller than what this DataLoader is going to create. Please be aware that excessive worker creation might get DataLoader running slow or even freeze, lower the worker number to avoid potential slowness/freeze if necessary.\n",
            "  warnings.warn(\n"
          ]
        }
      ]
    },
    {
      "cell_type": "code",
      "metadata": {
        "id": "pYT_KsM0Mnnr"
      },
      "source": [
        "# freeze all layers but the last fc\n",
        "for name, param in model.named_parameters():\n",
        "    if name not in ['fc.weight', 'fc.bias']:\n",
        "        param.requires_grad = False\n",
        "\n",
        "parameters = list(filter(lambda p: p.requires_grad, model.parameters()))\n",
        "assert len(parameters) == 2  # fc.weight, fc.bias"
      ],
      "execution_count": 16,
      "outputs": []
    },
    {
      "cell_type": "code",
      "metadata": {
        "id": "aPVh1S_eMRDU"
      },
      "source": [
        "optimizer = torch.optim.Adam(model.parameters(), lr=3e-4, weight_decay=0.0008)\n",
        "criterion = torch.nn.CrossEntropyLoss().to(device)"
      ],
      "execution_count": 17,
      "outputs": []
    },
    {
      "cell_type": "code",
      "metadata": {
        "id": "edr6RhP2PdVq"
      },
      "source": [
        "def accuracy(output, target, topk=(1,)):\n",
        "    \"\"\"Computes the accuracy over the k top predictions for the specified values of k\"\"\"\n",
        "    with torch.no_grad():\n",
        "        maxk = max(topk)\n",
        "        batch_size = target.size(0)\n",
        "\n",
        "        _, pred = output.topk(maxk, 1, True, True)\n",
        "        pred = pred.t()\n",
        "        correct = pred.eq(target.view(1, -1).expand_as(pred))\n",
        "\n",
        "        res = []\n",
        "        for k in topk:\n",
        "            correct_k = correct[:k].reshape(-1).float().sum(0, keepdim=True)\n",
        "            res.append(correct_k.mul_(100.0 / batch_size))\n",
        "        return res"
      ],
      "execution_count": 18,
      "outputs": []
    },
    {
      "cell_type": "code",
      "metadata": {
        "id": "qOder0dAMI7X",
        "colab": {
          "base_uri": "https://localhost:8080/"
        },
        "outputId": "91d47d94-ebbb-4c15-81b1-1f08bd2c6f23"
      },
      "source": [
        "epochs = 100\n",
        "for epoch in range(epochs):\n",
        "  top1_train_accuracy = 0\n",
        "  for counter, (x_batch, y_batch) in enumerate(train_loader):\n",
        "    x_batch = x_batch.to(device)\n",
        "    y_batch = y_batch.to(device)\n",
        "\n",
        "    logits = model(x_batch)\n",
        "    loss = criterion(logits, y_batch)\n",
        "    top1 = accuracy(logits, y_batch, topk=(1,))\n",
        "    top1_train_accuracy += top1[0]\n",
        "\n",
        "    optimizer.zero_grad()\n",
        "    loss.backward()\n",
        "    optimizer.step()\n",
        "\n",
        "  top1_train_accuracy /= (counter + 1)\n",
        "  top1_accuracy = 0\n",
        "  top5_accuracy = 0\n",
        "  for counter, (x_batch, y_batch) in enumerate(test_loader):\n",
        "    x_batch = x_batch.to(device)\n",
        "    y_batch = y_batch.to(device)\n",
        "\n",
        "    logits = model(x_batch)\n",
        "\n",
        "    top1, top5 = accuracy(logits, y_batch, topk=(1,5))\n",
        "    top1_accuracy += top1[0]\n",
        "    top5_accuracy += top5[0]\n",
        "\n",
        "  top1_accuracy /= (counter + 1)\n",
        "  top5_accuracy /= (counter + 1)\n",
        "  print(f\"Epoch {epoch}\\tTop1 Train accuracy {top1_train_accuracy.item()}\\tTop1 Test accuracy: {top1_accuracy.item()}\\tTop5 test acc: {top5_accuracy.item()}\")"
      ],
      "execution_count": 19,
      "outputs": [
        {
          "output_type": "stream",
          "name": "stdout",
          "text": [
            "Epoch 0\tTop1 Train accuracy 29.4473819732666\tTop1 Test accuracy: 49.1015625\tTop5 test acc: 94.3994140625\n",
            "Epoch 1\tTop1 Train accuracy 52.54940414428711\tTop1 Test accuracy: 54.71923828125\tTop5 test acc: 95.6591796875\n",
            "Epoch 2\tTop1 Train accuracy 56.38557052612305\tTop1 Test accuracy: 56.669921875\tTop5 test acc: 96.06201171875\n",
            "Epoch 3\tTop1 Train accuracy 58.297332763671875\tTop1 Test accuracy: 57.4658203125\tTop5 test acc: 96.35009765625\n",
            "Epoch 4\tTop1 Train accuracy 59.095821380615234\tTop1 Test accuracy: 58.1103515625\tTop5 test acc: 96.51611328125\n",
            "Epoch 5\tTop1 Train accuracy 59.618568420410156\tTop1 Test accuracy: 58.59619140625\tTop5 test acc: 96.50390625\n",
            "Epoch 6\tTop1 Train accuracy 60.124080657958984\tTop1 Test accuracy: 59.111328125\tTop5 test acc: 96.640625\n",
            "Epoch 7\tTop1 Train accuracy 60.338924407958984\tTop1 Test accuracy: 59.3017578125\tTop5 test acc: 96.708984375\n",
            "Epoch 8\tTop1 Train accuracy 60.92256546020508\tTop1 Test accuracy: 59.58984375\tTop5 test acc: 96.7626953125\n",
            "Epoch 9\tTop1 Train accuracy 61.37178421020508\tTop1 Test accuracy: 59.95849609375\tTop5 test acc: 96.84814453125\n",
            "Epoch 10\tTop1 Train accuracy 61.760108947753906\tTop1 Test accuracy: 60.2880859375\tTop5 test acc: 96.93359375\n",
            "Epoch 11\tTop1 Train accuracy 62.053077697753906\tTop1 Test accuracy: 60.556640625\tTop5 test acc: 97.03125\n",
            "Epoch 12\tTop1 Train accuracy 62.326515197753906\tTop1 Test accuracy: 60.97900390625\tTop5 test acc: 97.0556640625\n",
            "Epoch 13\tTop1 Train accuracy 62.326515197753906\tTop1 Test accuracy: 61.2060546875\tTop5 test acc: 97.06787109375\n",
            "Epoch 14\tTop1 Train accuracy 62.6171875\tTop1 Test accuracy: 61.48193359375\tTop5 test acc: 97.080078125\n",
            "Epoch 15\tTop1 Train accuracy 62.96875\tTop1 Test accuracy: 61.591796875\tTop5 test acc: 97.0556640625\n",
            "Epoch 16\tTop1 Train accuracy 63.244483947753906\tTop1 Test accuracy: 61.87255859375\tTop5 test acc: 97.0556640625\n",
            "Epoch 17\tTop1 Train accuracy 63.400733947753906\tTop1 Test accuracy: 62.03125\tTop5 test acc: 97.0849609375\n",
            "Epoch 18\tTop1 Train accuracy 63.75\tTop1 Test accuracy: 62.18994140625\tTop5 test acc: 97.109375\n",
            "Epoch 19\tTop1 Train accuracy 63.984375\tTop1 Test accuracy: 62.2314453125\tTop5 test acc: 97.17041015625\n",
            "Epoch 20\tTop1 Train accuracy 64.0797348022461\tTop1 Test accuracy: 62.34375\tTop5 test acc: 97.17041015625\n",
            "Epoch 21\tTop1 Train accuracy 64.23828125\tTop1 Test accuracy: 62.52197265625\tTop5 test acc: 97.1826171875\n",
            "Epoch 22\tTop1 Train accuracy 64.4898910522461\tTop1 Test accuracy: 62.66845703125\tTop5 test acc: 97.20703125\n",
            "Epoch 23\tTop1 Train accuracy 64.7828598022461\tTop1 Test accuracy: 62.85888671875\tTop5 test acc: 97.26806640625\n",
            "Epoch 24\tTop1 Train accuracy 64.9391098022461\tTop1 Test accuracy: 63.02490234375\tTop5 test acc: 97.31201171875\n",
            "Epoch 25\tTop1 Train accuracy 65.17118835449219\tTop1 Test accuracy: 63.1103515625\tTop5 test acc: 97.32421875\n",
            "Epoch 26\tTop1 Train accuracy 65.42509460449219\tTop1 Test accuracy: 63.33251953125\tTop5 test acc: 97.3486328125\n",
            "Epoch 27\tTop1 Train accuracy 65.58134460449219\tTop1 Test accuracy: 63.42529296875\tTop5 test acc: 97.36083984375\n",
            "Epoch 28\tTop1 Train accuracy 65.65946960449219\tTop1 Test accuracy: 63.53515625\tTop5 test acc: 97.3486328125\n",
            "Epoch 29\tTop1 Train accuracy 65.77436065673828\tTop1 Test accuracy: 63.66455078125\tTop5 test acc: 97.36083984375\n",
            "Epoch 30\tTop1 Train accuracy 65.98920440673828\tTop1 Test accuracy: 63.701171875\tTop5 test acc: 97.38037109375\n",
            "Epoch 31\tTop1 Train accuracy 66.12592315673828\tTop1 Test accuracy: 63.8330078125\tTop5 test acc: 97.42431640625\n",
            "Epoch 32\tTop1 Train accuracy 66.24311065673828\tTop1 Test accuracy: 63.935546875\tTop5 test acc: 97.4365234375\n",
            "Epoch 33\tTop1 Train accuracy 66.39705657958984\tTop1 Test accuracy: 64.0771484375\tTop5 test acc: 97.4609375\n",
            "Epoch 34\tTop1 Train accuracy 66.55101776123047\tTop1 Test accuracy: 64.1455078125\tTop5 test acc: 97.47314453125\n",
            "Epoch 35\tTop1 Train accuracy 66.68543243408203\tTop1 Test accuracy: 64.2431640625\tTop5 test acc: 97.4853515625\n",
            "Epoch 36\tTop1 Train accuracy 66.84168243408203\tTop1 Test accuracy: 64.40185546875\tTop5 test acc: 97.52197265625\n",
            "Epoch 37\tTop1 Train accuracy 67.07605743408203\tTop1 Test accuracy: 64.482421875\tTop5 test acc: 97.5341796875\n",
            "Epoch 38\tTop1 Train accuracy 67.19324493408203\tTop1 Test accuracy: 64.5556640625\tTop5 test acc: 97.54638671875\n",
            "Epoch 39\tTop1 Train accuracy 67.26907348632812\tTop1 Test accuracy: 64.5556640625\tTop5 test acc: 97.54638671875\n",
            "Epoch 40\tTop1 Train accuracy 67.52527618408203\tTop1 Test accuracy: 64.6533203125\tTop5 test acc: 97.57080078125\n",
            "Epoch 41\tTop1 Train accuracy 67.64246368408203\tTop1 Test accuracy: 64.68505859375\tTop5 test acc: 97.5830078125\n",
            "Epoch 42\tTop1 Train accuracy 67.60340118408203\tTop1 Test accuracy: 64.814453125\tTop5 test acc: 97.59521484375\n",
            "Epoch 43\tTop1 Train accuracy 67.64246368408203\tTop1 Test accuracy: 64.82666015625\tTop5 test acc: 97.61962890625\n",
            "Epoch 44\tTop1 Train accuracy 67.77918243408203\tTop1 Test accuracy: 64.85107421875\tTop5 test acc: 97.607421875\n",
            "Epoch 45\tTop1 Train accuracy 67.83777618408203\tTop1 Test accuracy: 64.92431640625\tTop5 test acc: 97.64404296875\n",
            "Epoch 46\tTop1 Train accuracy 67.97219848632812\tTop1 Test accuracy: 64.9853515625\tTop5 test acc: 97.66845703125\n",
            "Epoch 47\tTop1 Train accuracy 67.99172973632812\tTop1 Test accuracy: 65.05859375\tTop5 test acc: 97.69287109375\n",
            "Epoch 48\tTop1 Train accuracy 68.01126098632812\tTop1 Test accuracy: 65.11962890625\tTop5 test acc: 97.69287109375\n",
            "Epoch 49\tTop1 Train accuracy 68.01126098632812\tTop1 Test accuracy: 65.1318359375\tTop5 test acc: 97.705078125\n",
            "Epoch 50\tTop1 Train accuracy 67.99172973632812\tTop1 Test accuracy: 65.16845703125\tTop5 test acc: 97.7294921875\n",
            "Epoch 51\tTop1 Train accuracy 68.10891723632812\tTop1 Test accuracy: 65.26611328125\tTop5 test acc: 97.75390625\n",
            "Epoch 52\tTop1 Train accuracy 68.18704223632812\tTop1 Test accuracy: 65.31494140625\tTop5 test acc: 97.76611328125\n",
            "Epoch 53\tTop1 Train accuracy 68.28469848632812\tTop1 Test accuracy: 65.400390625\tTop5 test acc: 97.802734375\n",
            "Epoch 54\tTop1 Train accuracy 68.32146453857422\tTop1 Test accuracy: 65.46875\tTop5 test acc: 97.802734375\n",
            "Epoch 55\tTop1 Train accuracy 68.34099578857422\tTop1 Test accuracy: 65.537109375\tTop5 test acc: 97.802734375\n",
            "Epoch 56\tTop1 Train accuracy 68.41912078857422\tTop1 Test accuracy: 65.5419921875\tTop5 test acc: 97.802734375\n",
            "Epoch 57\tTop1 Train accuracy 68.47771453857422\tTop1 Test accuracy: 65.55419921875\tTop5 test acc: 97.81494140625\n",
            "Epoch 58\tTop1 Train accuracy 68.65349578857422\tTop1 Test accuracy: 65.59814453125\tTop5 test acc: 97.83935546875\n",
            "Epoch 59\tTop1 Train accuracy 68.73162078857422\tTop1 Test accuracy: 65.64208984375\tTop5 test acc: 97.8515625\n",
            "Epoch 60\tTop1 Train accuracy 68.88787078857422\tTop1 Test accuracy: 65.72021484375\tTop5 test acc: 97.86376953125\n",
            "Epoch 61\tTop1 Train accuracy 68.88787078857422\tTop1 Test accuracy: 65.7568359375\tTop5 test acc: 97.8759765625\n",
            "Epoch 62\tTop1 Train accuracy 68.88787078857422\tTop1 Test accuracy: 65.80810546875\tTop5 test acc: 97.8759765625\n",
            "Epoch 63\tTop1 Train accuracy 68.90740203857422\tTop1 Test accuracy: 65.83251953125\tTop5 test acc: 97.8759765625\n",
            "Epoch 64\tTop1 Train accuracy 68.96599578857422\tTop1 Test accuracy: 65.90087890625\tTop5 test acc: 97.88818359375\n",
            "Epoch 65\tTop1 Train accuracy 69.06365203857422\tTop1 Test accuracy: 65.94970703125\tTop5 test acc: 97.88818359375\n",
            "Epoch 66\tTop1 Train accuracy 69.10041809082031\tTop1 Test accuracy: 65.97412109375\tTop5 test acc: 97.88330078125\n",
            "Epoch 67\tTop1 Train accuracy 69.10041809082031\tTop1 Test accuracy: 66.04736328125\tTop5 test acc: 97.88330078125\n",
            "Epoch 68\tTop1 Train accuracy 69.25666809082031\tTop1 Test accuracy: 66.12060546875\tTop5 test acc: 97.919921875\n",
            "Epoch 69\tTop1 Train accuracy 69.37155151367188\tTop1 Test accuracy: 66.1572265625\tTop5 test acc: 97.9443359375\n",
            "Epoch 70\tTop1 Train accuracy 69.41061401367188\tTop1 Test accuracy: 66.2060546875\tTop5 test acc: 97.9443359375\n",
            "Epoch 71\tTop1 Train accuracy 69.62545776367188\tTop1 Test accuracy: 66.23046875\tTop5 test acc: 97.93212890625\n",
            "Epoch 72\tTop1 Train accuracy 69.66452026367188\tTop1 Test accuracy: 66.2548828125\tTop5 test acc: 97.939453125\n",
            "Epoch 73\tTop1 Train accuracy 69.74264526367188\tTop1 Test accuracy: 66.29150390625\tTop5 test acc: 97.9150390625\n",
            "Epoch 74\tTop1 Train accuracy 69.78170776367188\tTop1 Test accuracy: 66.36474609375\tTop5 test acc: 97.9150390625\n",
            "Epoch 75\tTop1 Train accuracy 69.83800506591797\tTop1 Test accuracy: 66.4013671875\tTop5 test acc: 97.9150390625\n",
            "Epoch 76\tTop1 Train accuracy 69.85753631591797\tTop1 Test accuracy: 66.43798828125\tTop5 test acc: 97.90283203125\n",
            "Epoch 77\tTop1 Train accuracy 69.93566131591797\tTop1 Test accuracy: 66.43798828125\tTop5 test acc: 97.9150390625\n",
            "Epoch 78\tTop1 Train accuracy 70.03331756591797\tTop1 Test accuracy: 66.43798828125\tTop5 test acc: 97.90283203125\n",
            "Epoch 79\tTop1 Train accuracy 70.05284881591797\tTop1 Test accuracy: 66.42578125\tTop5 test acc: 97.890625\n",
            "Epoch 80\tTop1 Train accuracy 70.11144256591797\tTop1 Test accuracy: 66.474609375\tTop5 test acc: 97.90283203125\n",
            "Epoch 81\tTop1 Train accuracy 70.15050506591797\tTop1 Test accuracy: 66.4501953125\tTop5 test acc: 97.9150390625\n",
            "Epoch 82\tTop1 Train accuracy 70.20909881591797\tTop1 Test accuracy: 66.53564453125\tTop5 test acc: 97.9150390625\n",
            "Epoch 83\tTop1 Train accuracy 70.28722381591797\tTop1 Test accuracy: 66.6015625\tTop5 test acc: 97.90283203125\n",
            "Epoch 84\tTop1 Train accuracy 70.40441131591797\tTop1 Test accuracy: 66.6748046875\tTop5 test acc: 97.90283203125\n",
            "Epoch 85\tTop1 Train accuracy 70.40441131591797\tTop1 Test accuracy: 66.6748046875\tTop5 test acc: 97.90283203125\n",
            "Epoch 86\tTop1 Train accuracy 70.44347381591797\tTop1 Test accuracy: 66.71142578125\tTop5 test acc: 97.90283203125\n",
            "Epoch 87\tTop1 Train accuracy 70.56066131591797\tTop1 Test accuracy: 66.748046875\tTop5 test acc: 97.90283203125\n",
            "Epoch 88\tTop1 Train accuracy 70.63878631591797\tTop1 Test accuracy: 66.748046875\tTop5 test acc: 97.90283203125\n",
            "Epoch 89\tTop1 Train accuracy 70.71691131591797\tTop1 Test accuracy: 66.78466796875\tTop5 test acc: 97.90283203125\n",
            "Epoch 90\tTop1 Train accuracy 70.73644256591797\tTop1 Test accuracy: 66.8017578125\tTop5 test acc: 97.90283203125\n",
            "Epoch 91\tTop1 Train accuracy 70.77550506591797\tTop1 Test accuracy: 66.8505859375\tTop5 test acc: 97.90283203125\n",
            "Epoch 92\tTop1 Train accuracy 70.79503631591797\tTop1 Test accuracy: 66.875\tTop5 test acc: 97.890625\n",
            "Epoch 93\tTop1 Train accuracy 70.91222381591797\tTop1 Test accuracy: 66.91162109375\tTop5 test acc: 97.890625\n",
            "Epoch 94\tTop1 Train accuracy 71.04894256591797\tTop1 Test accuracy: 66.9482421875\tTop5 test acc: 97.890625\n",
            "Epoch 95\tTop1 Train accuracy 71.08800506591797\tTop1 Test accuracy: 66.9970703125\tTop5 test acc: 97.90283203125\n",
            "Epoch 96\tTop1 Train accuracy 71.12706756591797\tTop1 Test accuracy: 67.02880859375\tTop5 test acc: 97.9150390625\n",
            "Epoch 97\tTop1 Train accuracy 71.08800506591797\tTop1 Test accuracy: 67.05322265625\tTop5 test acc: 97.9150390625\n",
            "Epoch 98\tTop1 Train accuracy 71.12706756591797\tTop1 Test accuracy: 67.08984375\tTop5 test acc: 97.9150390625\n",
            "Epoch 99\tTop1 Train accuracy 71.14659881591797\tTop1 Test accuracy: 67.10205078125\tTop5 test acc: 97.9150390625\n"
          ]
        }
      ]
    },
    {
      "cell_type": "code",
      "metadata": {
        "id": "dtYqHZirMNZk"
      },
      "source": [],
      "execution_count": null,
      "outputs": []
    }
  ]
}