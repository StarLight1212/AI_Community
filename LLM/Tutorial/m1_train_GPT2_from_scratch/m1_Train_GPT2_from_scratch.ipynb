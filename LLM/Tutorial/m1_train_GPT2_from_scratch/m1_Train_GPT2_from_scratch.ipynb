{
  "nbformat": 4,
  "nbformat_minor": 0,
  "metadata": {
    "colab": {
      "provenance": [],
      "gpuType": "T4"
    },
    "kernelspec": {
      "name": "python3",
      "display_name": "Python 3"
    },
    "language_info": {
      "name": "python"
    },
    "accelerator": "GPU"
  },
  "cells": [
    {
      "cell_type": "code",
      "execution_count": null,
      "metadata": {
        "colab": {
          "base_uri": "https://localhost:8080/"
        },
        "id": "hL9nESIg_hWZ",
        "outputId": "754433ad-ae66-40cc-c1e4-fc78073f45c7"
      },
      "outputs": [
        {
          "output_type": "stream",
          "name": "stdout",
          "text": [
            "Collecting tiktoken\n",
            "  Downloading tiktoken-0.7.0-cp310-cp310-manylinux_2_17_x86_64.manylinux2014_x86_64.whl.metadata (6.6 kB)\n",
            "Requirement already satisfied: torch in /usr/local/lib/python3.10/dist-packages (2.4.0+cu121)\n",
            "Requirement already satisfied: regex>=2022.1.18 in /usr/local/lib/python3.10/dist-packages (from tiktoken) (2024.9.11)\n",
            "Requirement already satisfied: requests>=2.26.0 in /usr/local/lib/python3.10/dist-packages (from tiktoken) (2.32.3)\n",
            "Requirement already satisfied: filelock in /usr/local/lib/python3.10/dist-packages (from torch) (3.16.0)\n",
            "Requirement already satisfied: typing-extensions>=4.8.0 in /usr/local/lib/python3.10/dist-packages (from torch) (4.12.2)\n",
            "Requirement already satisfied: sympy in /usr/local/lib/python3.10/dist-packages (from torch) (1.13.2)\n",
            "Requirement already satisfied: networkx in /usr/local/lib/python3.10/dist-packages (from torch) (3.3)\n",
            "Requirement already satisfied: jinja2 in /usr/local/lib/python3.10/dist-packages (from torch) (3.1.4)\n",
            "Requirement already satisfied: fsspec in /usr/local/lib/python3.10/dist-packages (from torch) (2024.6.1)\n",
            "Requirement already satisfied: charset-normalizer<4,>=2 in /usr/local/lib/python3.10/dist-packages (from requests>=2.26.0->tiktoken) (3.3.2)\n",
            "Requirement already satisfied: idna<4,>=2.5 in /usr/local/lib/python3.10/dist-packages (from requests>=2.26.0->tiktoken) (3.10)\n",
            "Requirement already satisfied: urllib3<3,>=1.21.1 in /usr/local/lib/python3.10/dist-packages (from requests>=2.26.0->tiktoken) (2.0.7)\n",
            "Requirement already satisfied: certifi>=2017.4.17 in /usr/local/lib/python3.10/dist-packages (from requests>=2.26.0->tiktoken) (2024.8.30)\n",
            "Requirement already satisfied: MarkupSafe>=2.0 in /usr/local/lib/python3.10/dist-packages (from jinja2->torch) (2.1.5)\n",
            "Requirement already satisfied: mpmath<1.4,>=1.1.0 in /usr/local/lib/python3.10/dist-packages (from sympy->torch) (1.3.0)\n",
            "Downloading tiktoken-0.7.0-cp310-cp310-manylinux_2_17_x86_64.manylinux2014_x86_64.whl (1.1 MB)\n",
            "\u001b[2K   \u001b[90m━━━━━━━━━━━━━━━━━━━━━━━━━━━━━━━━━━━━━━━━\u001b[0m \u001b[32m1.1/1.1 MB\u001b[0m \u001b[31m17.8 MB/s\u001b[0m eta \u001b[36m0:00:00\u001b[0m\n",
            "\u001b[?25hInstalling collected packages: tiktoken\n",
            "Successfully installed tiktoken-0.7.0\n"
          ]
        }
      ],
      "source": [
        "!pip install tiktoken torch"
      ]
    },
    {
      "cell_type": "code",
      "source": [
        "!pip install torch"
      ],
      "metadata": {
        "colab": {
          "base_uri": "https://localhost:8080/"
        },
        "id": "gcSK9_04Atki",
        "outputId": "61913bdf-5839-4214-8a30-2242cd37e51a"
      },
      "execution_count": null,
      "outputs": [
        {
          "output_type": "stream",
          "name": "stdout",
          "text": [
            "Requirement already satisfied: torch in /usr/local/lib/python3.10/dist-packages (2.4.0+cu121)\n",
            "Requirement already satisfied: filelock in /usr/local/lib/python3.10/dist-packages (from torch) (3.16.0)\n",
            "Requirement already satisfied: typing-extensions>=4.8.0 in /usr/local/lib/python3.10/dist-packages (from torch) (4.12.2)\n",
            "Requirement already satisfied: sympy in /usr/local/lib/python3.10/dist-packages (from torch) (1.13.2)\n",
            "Requirement already satisfied: networkx in /usr/local/lib/python3.10/dist-packages (from torch) (3.3)\n",
            "Requirement already satisfied: jinja2 in /usr/local/lib/python3.10/dist-packages (from torch) (3.1.4)\n",
            "Requirement already satisfied: fsspec in /usr/local/lib/python3.10/dist-packages (from torch) (2024.6.1)\n",
            "Requirement already satisfied: MarkupSafe>=2.0 in /usr/local/lib/python3.10/dist-packages (from jinja2->torch) (2.1.5)\n",
            "Requirement already satisfied: mpmath<1.4,>=1.1.0 in /usr/local/lib/python3.10/dist-packages (from sympy->torch) (1.3.0)\n"
          ]
        }
      ]
    },
    {
      "cell_type": "markdown",
      "source": [
        "# Train GPT2 from scratch"
      ],
      "metadata": {
        "id": "tC0ZGfYE_qM7"
      }
    },
    {
      "cell_type": "markdown",
      "source": [
        "### Url Links: https://github.com/ajeetkharel/gpt2-from-scratch/tree/master"
      ],
      "metadata": {
        "id": "JbEAfI-n_rX-"
      }
    },
    {
      "cell_type": "code",
      "source": [
        "import tiktoken\n",
        "\n",
        "# Tokenizer --BBPE\n",
        "tokenizer = tiktoken.get_encoding('gpt2')\n",
        "vocab_size = tokenizer.n_vocab\n",
        "print(vocab_size)"
      ],
      "metadata": {
        "colab": {
          "base_uri": "https://localhost:8080/"
        },
        "id": "uPNLBzb4_4ik",
        "outputId": "789f101c-c9f5-4bc1-ab3f-feb929c63d64"
      },
      "execution_count": null,
      "outputs": [
        {
          "output_type": "stream",
          "name": "stdout",
          "text": [
            "50257\n"
          ]
        }
      ]
    },
    {
      "cell_type": "code",
      "source": [
        "!pwd"
      ],
      "metadata": {
        "colab": {
          "base_uri": "https://localhost:8080/"
        },
        "id": "1CJKiCjXBo0_",
        "outputId": "29cad936-2af6-414f-9e8e-c33549ab61ac"
      },
      "execution_count": null,
      "outputs": [
        {
          "output_type": "stream",
          "name": "stdout",
          "text": [
            "/content\n"
          ]
        }
      ]
    },
    {
      "cell_type": "code",
      "source": [
        "!ls -ls"
      ],
      "metadata": {
        "colab": {
          "base_uri": "https://localhost:8080/"
        },
        "id": "H6_BYEimByzk",
        "outputId": "20be0a91-acac-4257-cd79-c5599f10050f"
      },
      "execution_count": null,
      "outputs": [
        {
          "output_type": "stream",
          "name": "stdout",
          "text": [
            "total 804\n",
            "800 -rw-r--r-- 1 root root 817944 Sep 19 06:49 data.txt\n",
            "  4 drwxr-xr-x 1 root root   4096 Sep 17 13:22 sample_data\n"
          ]
        }
      ]
    },
    {
      "cell_type": "code",
      "source": [
        "import torch\n",
        "\n",
        "device = torch.device('cuda' if torch.cuda.is_available() else 'cpu')\n",
        "print(device)\n",
        "\n",
        "data_dir = \"./data.txt\"\n",
        "text = open(data_dir, 'r').read()\n",
        "\n",
        "data = torch.tensor(tokenizer.encode(text), dtype=torch.long, device=device)\n",
        "print(data.shape, data.dtype)\n",
        "print(text[:10])"
      ],
      "metadata": {
        "colab": {
          "base_uri": "https://localhost:8080/"
        },
        "id": "cObQKOQdBBf0",
        "outputId": "574d50d9-e604-44c7-b753-1e2ee820db0b"
      },
      "execution_count": null,
      "outputs": [
        {
          "output_type": "stream",
          "name": "stdout",
          "text": [
            "cuda\n",
            "torch.Size([232724]) torch.int64\n",
            "He said th\n"
          ]
        }
      ]
    },
    {
      "cell_type": "code",
      "source": [
        "print(text[:50])\n",
        "print(data[:50])"
      ],
      "metadata": {
        "colab": {
          "base_uri": "https://localhost:8080/"
        },
        "id": "Hcuzu1HFBB5Z",
        "outputId": "647ebfc7-730a-4dfe-99a6-302eec2a0805"
      },
      "execution_count": null,
      "outputs": [
        {
          "output_type": "stream",
          "name": "stdout",
          "text": [
            "He said the way my blue eyes shined\n",
            "Put those Geor\n",
            "tensor([ 1544,   531,   262,   835,   616,  4171,  2951,   427,  1389,   198,\n",
            "        11588,   883,  7859,  5788,   284, 10195,   326,  1755,   198,    40,\n",
            "          531,    11,   366,  2504,   338,   257,  6486,     1,   198,  5703,\n",
            "          257,  2933,   287,   257, 40688,  7779,   198,  2504,   550,   257,\n",
            "        13542,   286,   651, 43701,     6,  7819,   198,  2202,   736,  9725],\n",
            "       device='cuda:0')\n"
          ]
        }
      ]
    },
    {
      "cell_type": "code",
      "source": [
        "!nvidia-smi"
      ],
      "metadata": {
        "colab": {
          "base_uri": "https://localhost:8080/"
        },
        "id": "PUzfGeokC_2Y",
        "outputId": "2c2d7ace-25cb-4507-e9b7-8682ce724956"
      },
      "execution_count": null,
      "outputs": [
        {
          "output_type": "stream",
          "name": "stdout",
          "text": [
            "Thu Sep 19 06:50:51 2024       \n",
            "+---------------------------------------------------------------------------------------+\n",
            "| NVIDIA-SMI 535.104.05             Driver Version: 535.104.05   CUDA Version: 12.2     |\n",
            "|-----------------------------------------+----------------------+----------------------+\n",
            "| GPU  Name                 Persistence-M | Bus-Id        Disp.A | Volatile Uncorr. ECC |\n",
            "| Fan  Temp   Perf          Pwr:Usage/Cap |         Memory-Usage | GPU-Util  Compute M. |\n",
            "|                                         |                      |               MIG M. |\n",
            "|=========================================+======================+======================|\n",
            "|   0  Tesla T4                       Off | 00000000:00:04.0 Off |                    0 |\n",
            "| N/A   44C    P0              27W /  70W |    123MiB / 15360MiB |      0%      Default |\n",
            "|                                         |                      |                  N/A |\n",
            "+-----------------------------------------+----------------------+----------------------+\n",
            "                                                                                         \n",
            "+---------------------------------------------------------------------------------------+\n",
            "| Processes:                                                                            |\n",
            "|  GPU   GI   CI        PID   Type   Process name                            GPU Memory |\n",
            "|        ID   ID                                                             Usage      |\n",
            "|=======================================================================================|\n",
            "+---------------------------------------------------------------------------------------+\n"
          ]
        }
      ]
    },
    {
      "cell_type": "code",
      "source": [
        "train_batch_size = 16   # training batch size\n",
        "eval_batch_size = 8  # evaluation batch size\n",
        "context_length = 512  # number of tokens processed in a single batch\n",
        "train_split = 0.7  # percentage of data to use from total data for training\n",
        "\n",
        "# split data into trian and eval\n",
        "n_data = len(data)\n",
        "train_data = data[:int(n_data * train_split)]\n",
        "eval_data = data[int(n_data * train_split):]\n",
        "\n",
        "class DataLoader:\n",
        "    def __init__(self, tokens, batch_size, context_length) -> None:\n",
        "        self.tokens = tokens\n",
        "        self.batch_size = batch_size\n",
        "        self.context_length = context_length\n",
        "        self.current_position = 0\n",
        "\n",
        "    def get_batch(self) -> torch.tensor:\n",
        "        b, c = self.batch_size, self.context_length\n",
        "        data_size = b * c\n",
        "\n",
        "        # If there's not enough data left, reset to the beginning\n",
        "        if self.current_position + data_size >= len(self.tokens):\n",
        "            self.current_position = 0\n",
        "\n",
        "        # Get the chunk of data\n",
        "        chunk = self.tokens[self.current_position:self.current_position + data_size + 1]\n",
        "\n",
        "        # If we don't have enough data, pad with zeros\n",
        "        if len(chunk) < data_size + 1:\n",
        "            padding = torch.zeros(data_size + 1 - len(chunk), dtype=chunk.dtype)\n",
        "            chunk = torch.cat([chunk, padding])\n",
        "\n",
        "        x = chunk[:data_size].view(b, c)\n",
        "        y = chunk[1:data_size+1].view(b, c)\n",
        "\n",
        "        self.current_position += data_size\n",
        "\n",
        "        return x, y\n",
        "\n",
        "train_dataloader = DataLoader(train_data, train_batch_size, context_length)\n",
        "eval_dataloader = DataLoader(eval_data, eval_batch_size, context_length)"
      ],
      "metadata": {
        "id": "eg01WHshDGxs"
      },
      "execution_count": null,
      "outputs": []
    },
    {
      "cell_type": "code",
      "source": [
        "xb, yb = train_dataloader.get_batch()\n",
        "print(xb.shape, yb.shape)"
      ],
      "metadata": {
        "colab": {
          "base_uri": "https://localhost:8080/"
        },
        "id": "m4O4B3uGEFo2",
        "outputId": "be523a44-9ad1-49f2-f560-544c186563e8"
      },
      "execution_count": null,
      "outputs": [
        {
          "output_type": "stream",
          "name": "stdout",
          "text": [
            "torch.Size([16, 512]) torch.Size([16, 512])\n"
          ]
        }
      ]
    },
    {
      "cell_type": "code",
      "source": [
        "xb"
      ],
      "metadata": {
        "colab": {
          "base_uri": "https://localhost:8080/"
        },
        "id": "KErN0hHkG_pZ",
        "outputId": "cb9c37ea-ee05-4dab-f76a-0dea749c8f9e"
      },
      "execution_count": null,
      "outputs": [
        {
          "output_type": "execute_result",
          "data": {
            "text/plain": [
              "tensor([[ 1544,   531,   262,  ...,  7165,   198,  2504],\n",
              "        [  338,  3734,   314,  ...,  1544,   338,   262],\n",
              "        [ 3496,   287,   262,  ...,  2925,   319,   198],\n",
              "        ...,\n",
              "        [   40,  1392,   281,  ...,   198, 23433,   290],\n",
              "        [ 2652,   503,   286,  ...,   628,   628,   198],\n",
              "        [ 1135,   547,  1111,  ...,  1842,  1621,    11]], device='cuda:0')"
            ]
          },
          "metadata": {},
          "execution_count": 13
        }
      ]
    },
    {
      "cell_type": "code",
      "source": [
        "yb"
      ],
      "metadata": {
        "colab": {
          "base_uri": "https://localhost:8080/"
        },
        "id": "Q8VIr647HDsr",
        "outputId": "8d7971be-793d-4006-8ab8-58c68f2896bc"
      },
      "execution_count": null,
      "outputs": [
        {
          "output_type": "execute_result",
          "data": {
            "text/plain": [
              "tensor([[  531,   262,   835,  ...,   198,  2504,   338],\n",
              "        [ 3734,   314,  1183,  ...,   338,   262,  3496],\n",
              "        [  287,   262,  1097,  ...,   319,   198,  5812],\n",
              "        ...,\n",
              "        [ 1392,   281,   314,  ..., 23433,   290,  2652],\n",
              "        [  503,   286,  7288,  ...,   628,   198,  1135],\n",
              "        [  547,  1111,  1862,  ...,  1621,    11,  5156]], device='cuda:0')"
            ]
          },
          "metadata": {},
          "execution_count": 14
        }
      ]
    },
    {
      "cell_type": "code",
      "source": [
        "torch.triu(torch.ones(10, 10), diagonal=1)"
      ],
      "metadata": {
        "colab": {
          "base_uri": "https://localhost:8080/"
        },
        "id": "nI1sdB9-JNJE",
        "outputId": "ed30a4dd-7c92-43cd-db04-edab8c2d5131"
      },
      "execution_count": null,
      "outputs": [
        {
          "output_type": "execute_result",
          "data": {
            "text/plain": [
              "tensor([[0., 1., 1., 1., 1., 1., 1., 1., 1., 1.],\n",
              "        [0., 0., 1., 1., 1., 1., 1., 1., 1., 1.],\n",
              "        [0., 0., 0., 1., 1., 1., 1., 1., 1., 1.],\n",
              "        [0., 0., 0., 0., 1., 1., 1., 1., 1., 1.],\n",
              "        [0., 0., 0., 0., 0., 1., 1., 1., 1., 1.],\n",
              "        [0., 0., 0., 0., 0., 0., 1., 1., 1., 1.],\n",
              "        [0., 0., 0., 0., 0., 0., 0., 1., 1., 1.],\n",
              "        [0., 0., 0., 0., 0., 0., 0., 0., 1., 1.],\n",
              "        [0., 0., 0., 0., 0., 0., 0., 0., 0., 1.],\n",
              "        [0., 0., 0., 0., 0., 0., 0., 0., 0., 0.]])"
            ]
          },
          "metadata": {},
          "execution_count": 19
        }
      ]
    },
    {
      "cell_type": "code",
      "source": [
        "torch.tril(torch.ones(10, 10), diagonal=1)"
      ],
      "metadata": {
        "colab": {
          "base_uri": "https://localhost:8080/"
        },
        "id": "RH1sD6E4Jdgy",
        "outputId": "f4072ae2-8945-4161-cd43-c2dcf15e090d"
      },
      "execution_count": null,
      "outputs": [
        {
          "output_type": "execute_result",
          "data": {
            "text/plain": [
              "tensor([[1., 1., 0., 0., 0., 0., 0., 0., 0., 0.],\n",
              "        [1., 1., 1., 0., 0., 0., 0., 0., 0., 0.],\n",
              "        [1., 1., 1., 1., 0., 0., 0., 0., 0., 0.],\n",
              "        [1., 1., 1., 1., 1., 0., 0., 0., 0., 0.],\n",
              "        [1., 1., 1., 1., 1., 1., 0., 0., 0., 0.],\n",
              "        [1., 1., 1., 1., 1., 1., 1., 0., 0., 0.],\n",
              "        [1., 1., 1., 1., 1., 1., 1., 1., 0., 0.],\n",
              "        [1., 1., 1., 1., 1., 1., 1., 1., 1., 0.],\n",
              "        [1., 1., 1., 1., 1., 1., 1., 1., 1., 1.],\n",
              "        [1., 1., 1., 1., 1., 1., 1., 1., 1., 1.]])"
            ]
          },
          "metadata": {},
          "execution_count": 18
        }
      ]
    },
    {
      "cell_type": "code",
      "source": [
        "a = torch.randn(512, 512)\n",
        "msk_ = torch.triu(torch.ones(context_length, context_length), diagonal=1).bool()\n",
        "a.masked_fill(msk_, -1e9)"
      ],
      "metadata": {
        "colab": {
          "base_uri": "https://localhost:8080/"
        },
        "id": "SLmzCbvJJxf2",
        "outputId": "302cb7f8-9540-4598-c73e-763d3fb79b8f"
      },
      "execution_count": null,
      "outputs": [
        {
          "output_type": "execute_result",
          "data": {
            "text/plain": [
              "tensor([[ 2.4331e-01, -1.0000e+09, -1.0000e+09,  ..., -1.0000e+09,\n",
              "         -1.0000e+09, -1.0000e+09],\n",
              "        [ 1.6560e-01,  1.1204e+00, -1.0000e+09,  ..., -1.0000e+09,\n",
              "         -1.0000e+09, -1.0000e+09],\n",
              "        [-9.3437e-01, -2.6028e-01, -5.3287e-02,  ..., -1.0000e+09,\n",
              "         -1.0000e+09, -1.0000e+09],\n",
              "        ...,\n",
              "        [ 3.8265e-01, -1.8384e+00,  3.0555e-01,  ..., -1.5166e+00,\n",
              "         -1.0000e+09, -1.0000e+09],\n",
              "        [-6.3004e-01, -1.7615e-01, -6.1926e-01,  ..., -7.7092e-01,\n",
              "          1.5122e+00, -1.0000e+09],\n",
              "        [-8.0994e-01, -5.6006e-01,  9.6920e-03,  ...,  1.0156e-02,\n",
              "         -1.1383e-01, -2.9295e-01]])"
            ]
          },
          "metadata": {},
          "execution_count": 32
        }
      ]
    },
    {
      "cell_type": "markdown",
      "source": [
        "len(eval_data)"
      ],
      "metadata": {
        "id": "S_6B-sIiG1tr"
      }
    },
    {
      "cell_type": "code",
      "source": [
        "import math\n",
        "import torch.nn as nn\n",
        "import torch.nn.functional as F\n",
        "\n",
        "# used to define size of embeddings\n",
        "d_model = 512\n",
        "n_heads = 4\n",
        "n_layers = 2\n",
        "\n",
        "class MultiHeadAttention(nn.Module):\n",
        "  def __init__(self, d_model: int, n_heads: int) -> None:\n",
        "    super().__init__()\n",
        "    self.n_heads = n_heads\n",
        "    self.head_dim = d_model // n_heads\n",
        "\n",
        "    assert (n_heads * self.head_dim == d_model)\n",
        "\n",
        "    self.query = nn.Linear(d_model, d_model)\n",
        "    self.key = nn.Linear(d_model, d_model)\n",
        "    self.value = nn.Linear(d_model, d_model)\n",
        "    self.fc_out = nn.Linear(d_model, d_model)\n",
        "    self.dropout = nn.Dropout(0.2)\n",
        "\n",
        "  def forward(self, x: torch.tensor):\n",
        "    B, seq_length, d_model = x.shape\n",
        "\n",
        "    Q = self.query(x).view(B, seq_length, self.n_heads, self.head_dim).permute(0, 2, 1, 3)\n",
        "    K = self.key(x).view(B, seq_length, self.n_heads, self.head_dim).permute(0, 2, 1, 3)\n",
        "    V = self.value(x).view(B, seq_length, self.n_heads, self.head_dim).permute(0, 2, 1, 3)\n",
        "\n",
        "    # 计算注意力权重\n",
        "    attention_scores = torch.matmul(Q, K.transpose(-2, -1)) / math.sqrt(self.head_dim)\n",
        "\n",
        "    # Apply mask to prevent attention to future tokens, 这里采用上三角阵\n",
        "    mask = torch.triu(torch.ones(seq_length, seq_length), diagonal=1).bool().to(x.device)\n",
        "    attention_scores = attention_scores.masked_fill(mask, float(\"-inf\"))\n",
        "\n",
        "    attention_weights = F.softmax(attention_scores, dim=-1)\n",
        "    # Compute the weighted sum of the values\n",
        "    attention_output = torch.matmul(self.dropout(attention_weights), V)\n",
        "\n",
        "    # Reshape and apply the final linear transformation\n",
        "    attention_output = attention_output.permute(0, 2, 1, 3).contiguous().view(B, seq_length, d_model)\n",
        "    output = self.fc_out(attention_output)\n",
        "\n",
        "    return output\n",
        "\n",
        "\n",
        "class PositionalEncoding(nn.Module):\n",
        "  def __init__(self, context_length: int, d_model: int) -> None:\n",
        "    super().__init__()\n",
        "\n",
        "    pe = torch.zeros(context_length, d_model)\n",
        "    position = torch.arange(0, context_length, dtype=torch.float).unsqueeze(1)\n",
        "\n",
        "    div_term = torch.exp(torch.arange(0, d_model, 2).float() * -(math.log(10000.0) / d_model))\n",
        "    pe[:, 0::2] = torch.sin(position * div_term)\n",
        "    pe[:, 1::2] = torch.cos(position * div_term)\n",
        "\n",
        "    # 将它注册在buffer中,因此可以不被视为一个可学习参数,但仍是模型中的一部分\n",
        "    self.register_buffer('pe', pe.unsqueeze(0))   # (1, context_length, d_model)\n",
        "\n",
        "  def forward(self, x: torch.Tensor) -> torch.Tensor:\n",
        "    x = x + self.pe[:, :x.size(1), :]\n",
        "    return x\n",
        "\n",
        "\n",
        "class GPTBlock(nn.Module):\n",
        "  def __init__(self, d_model: int, n_heads: int) -> None:\n",
        "    super().__init__()\n",
        "    self.att = MultiHeadAttention(d_model, n_heads)\n",
        "    self.norm1 = nn.LayerNorm(d_model)\n",
        "    self.norm2 = nn.LayerNorm(d_model)\n",
        "    self.dropout = nn.Dropout(0.2)\n",
        "    self.fcn = nn.Sequential(\n",
        "        nn.Linear(d_model, 4 * d_model),\n",
        "        nn.GELU(),\n",
        "        nn.Linear(4 * d_model, d_model),\n",
        "        # nn.Dropout(0.2)\n",
        "    )\n",
        "\n",
        "  def forward(self, x: torch.tensor):\n",
        "    att_out = self.att(x)\n",
        "    adn_logits = self.norm1(x + att_out)\n",
        "\n",
        "    return self.norm2(adn_logits + self.fcn(self.dropout(adn_logits)))\n",
        "\n",
        "\n",
        "class GPT(nn.Module):\n",
        "  def __init__(self, vocab_size: int, d_model: int, n_heads: int, n_layers: int) -> None:\n",
        "    super().__init__()\n",
        "    # word token embeddings\n",
        "    self.wte = nn.Embedding(vocab_size, d_model)\n",
        "    # word position encodings\n",
        "    self.wpe = PositionalEncoding(context_length, d_model)\n",
        "    self.blocks = nn.Sequential(*[GPTBlock(d_model, n_heads) for _ in range(n_layers)])\n",
        "\n",
        "    self.linear1 = nn.Linear(d_model, vocab_size)\n",
        "    self.wte.weight = self.linear1.weight\n",
        "\n",
        "  def forward(self, inputs: torch.tensor, targets = None):\n",
        "    logits = self.wte(inputs)   # dim -> bz, seq_len, d_model\n",
        "    logits = self.wpe(logits)\n",
        "    for block in self.blocks:\n",
        "      logits = block(logits)\n",
        "    logits = self.linear1(logits)\n",
        "    loss = None\n",
        "    if targets is not None:\n",
        "      batch_size, seq_length, d_model = logits.shape\n",
        "      loss = F.cross_entropy(logits.view(-1, logits.size(-1)), targets.view(-1))\n",
        "    return logits, loss\n",
        "\n",
        "  def generate(self, inputs: torch.tensor, max_new_tokens: int):\n",
        "    output = inputs.clone()\n",
        "    for _ in range(max_new_tokens):\n",
        "      current_seq_length = output.shape[1]\n",
        "      # 如果输入超出则修剪输入的内容\n",
        "      if current_seq_length >= context_length:\n",
        "        inputs = inputs[:, -context_length:]\n",
        "      logits, loss = self(output)\n",
        "      logits = logits[:, -1, :]\n",
        "      probs = F.softmax(logits, dim=-1)\n",
        "      next_token = torch.multinomial(probs, num_samples=1)\n",
        "\n",
        "      inputs = torch.cat([inputs, next_token], dim=1)\n",
        "      output = torch.cat([output, next_token], dim=1)\n",
        "    return [tokenizer.decode(out.tolist()) for out in output]"
      ],
      "metadata": {
        "id": "8hG6ukkjG89F"
      },
      "execution_count": null,
      "outputs": []
    },
    {
      "cell_type": "code",
      "source": [
        "m = GPT(vocab_size, d_model, n_heads, n_layers)\n",
        "m = m.to(device)\n",
        "m = torch.compile(m)"
      ],
      "metadata": {
        "id": "_VDy8B4NP9-A"
      },
      "execution_count": null,
      "outputs": []
    },
    {
      "cell_type": "code",
      "source": [
        "torch.arange(0, 512, dtype=torch.float).unsqueeze(1).shape"
      ],
      "metadata": {
        "colab": {
          "base_uri": "https://localhost:8080/"
        },
        "id": "D_17p7MEMI5F",
        "outputId": "391425f4-dad3-4ed5-dd4b-6fae6f78b6f7"
      },
      "execution_count": null,
      "outputs": [
        {
          "output_type": "execute_result",
          "data": {
            "text/plain": [
              "torch.Size([512, 1])"
            ]
          },
          "metadata": {},
          "execution_count": 36
        }
      ]
    },
    {
      "cell_type": "code",
      "source": [
        "# prompt: 这一段代码什么意思?通俗易懂的讲一下:pe = torch.zeros(context_length, d_model)\n",
        "#     position = torch.arange(0, context_length, dtype=torch.float).unsqueeze(1)\n",
        "#     div_term = torch.exp(torch.arange(0, d_model, 2).float() * -(math.log(10000.0) / d_model))\n",
        "#     pe[:, 0::2] = torch.sin(position * div_term)\n",
        "#     pe[:, 1::2] = torch.cos(position * div_term)\n",
        "\n",
        "# 这段代码的作用是创建位置编码 (Positional Encoding)，用于在 Transformer 模型中表示输入序列中每个词语的位置信息。\n",
        "\n",
        "# 1. pe = torch.zeros(context_length, d_model):\n",
        "#    - 创建一个形状为 (context_length, d_model) 的全零张量 pe，用于存储位置编码。\n",
        "#    - context_length 表示输入序列的最大长度，d_model 表示模型的维度。\n",
        "\n",
        "# 2. position = torch.arange(0, context_length, dtype=torch.float).unsqueeze(1):\n",
        "#    - 创建一个从 0 到 context_length-1 的序列，表示每个词语在序列中的位置。\n",
        "#    - unsqueeze(1) 将序列扩展为一个二维张量，以便后续进行矩阵运算。\n",
        "\n",
        "# 3. div_term = torch.exp(torch.arange(0, d_model, 2).float() * -(math.log(10000.0) / d_model)):\n",
        "#    - 创建一个用于计算正弦和余弦波的缩放因子 div_term。\n",
        "#    - 它根据词语的维度和位置计算一个指数衰减的因子，用于控制不同维度上的波长。\n",
        "\n",
        "# 4. pe[:, 0::2] = torch.sin(position * div_term):\n",
        "#    - 将位置信息和缩放因子相乘，然后计算正弦值，并将结果存储在 pe 张量的偶数列中。\n",
        "\n",
        "# 5. pe[:, 1::2] = torch.cos(position * div_term):\n",
        "#    - 将位置信息和缩放因子相乘，然后计算余弦值，并将结果存储在 pe 张量的奇数列中。\n",
        "\n",
        "# 总之，这段代码创建了一个位置编码矩阵 pe，其中每一行表示一个词语的位置信息，每个位置信息由一系列正弦和余弦波构成，这些波长和振幅不同，可以帮助模型学习词语之间的相对位置关系。\n"
      ],
      "metadata": {
        "id": "D7HUh7zfMsic"
      },
      "execution_count": null,
      "outputs": []
    },
    {
      "cell_type": "code",
      "source": [
        "print(m)\n",
        "print(f\"Total Parameters: {round(sum(p.numel() for p in m.parameters() if p.requires_grad) / 1_000_000)}M\")"
      ],
      "metadata": {
        "colab": {
          "base_uri": "https://localhost:8080/"
        },
        "id": "dqfPx6L4S584",
        "outputId": "579ddaa2-a0a3-4bd7-ce5e-55e4b2c67cd0"
      },
      "execution_count": null,
      "outputs": [
        {
          "output_type": "stream",
          "name": "stdout",
          "text": [
            "OptimizedModule(\n",
            "  (_orig_mod): GPT(\n",
            "    (wte): Embedding(50257, 512)\n",
            "    (wpe): PositionalEncoding()\n",
            "    (blocks): Sequential(\n",
            "      (0): GPTBlock(\n",
            "        (att): MultiHeadAttention(\n",
            "          (query): Linear(in_features=512, out_features=512, bias=True)\n",
            "          (key): Linear(in_features=512, out_features=512, bias=True)\n",
            "          (value): Linear(in_features=512, out_features=512, bias=True)\n",
            "          (fc_out): Linear(in_features=512, out_features=512, bias=True)\n",
            "          (dropout): Dropout(p=0.2, inplace=False)\n",
            "        )\n",
            "        (norm1): LayerNorm((512,), eps=1e-05, elementwise_affine=True)\n",
            "        (norm2): LayerNorm((512,), eps=1e-05, elementwise_affine=True)\n",
            "        (dropout): Dropout(p=0.2, inplace=False)\n",
            "        (fcn): Sequential(\n",
            "          (0): Linear(in_features=512, out_features=2048, bias=True)\n",
            "          (1): GELU(approximate='none')\n",
            "          (2): Linear(in_features=2048, out_features=512, bias=True)\n",
            "        )\n",
            "      )\n",
            "      (1): GPTBlock(\n",
            "        (att): MultiHeadAttention(\n",
            "          (query): Linear(in_features=512, out_features=512, bias=True)\n",
            "          (key): Linear(in_features=512, out_features=512, bias=True)\n",
            "          (value): Linear(in_features=512, out_features=512, bias=True)\n",
            "          (fc_out): Linear(in_features=512, out_features=512, bias=True)\n",
            "          (dropout): Dropout(p=0.2, inplace=False)\n",
            "        )\n",
            "        (norm1): LayerNorm((512,), eps=1e-05, elementwise_affine=True)\n",
            "        (norm2): LayerNorm((512,), eps=1e-05, elementwise_affine=True)\n",
            "        (dropout): Dropout(p=0.2, inplace=False)\n",
            "        (fcn): Sequential(\n",
            "          (0): Linear(in_features=512, out_features=2048, bias=True)\n",
            "          (1): GELU(approximate='none')\n",
            "          (2): Linear(in_features=2048, out_features=512, bias=True)\n",
            "        )\n",
            "      )\n",
            "    )\n",
            "    (linear1): Linear(in_features=512, out_features=50257, bias=True)\n",
            "  )\n",
            ")\n",
            "Total Parameters: 32M\n"
          ]
        }
      ]
    },
    {
      "cell_type": "code",
      "source": [
        "with torch.no_grad():\n",
        "  input = torch.tensor(tokenizer.encode(\"ich \"), dtype=torch.long, device=device).unsqueeze(0)\n",
        "  print(m.generate(input, 500)[:2])"
      ],
      "metadata": {
        "colab": {
          "base_uri": "https://localhost:8080/"
        },
        "id": "WFmqd2W8TMhE",
        "outputId": "609f26af-b745-4c7c-91fe-c1a80282dfbf"
      },
      "execution_count": null,
      "outputs": [
        {
          "output_type": "stream",
          "name": "stdout",
          "text": [
            "['ich sed investors vulnerability freezinglinkuthergansaments Fischer acidicacho flock USryn fab hierarchy Parker 46 tones Kit nonviolent Vista Ventura Norris kidnapping sonic Breach master PastebinAst inundoshopbandIncludes Jews346istors Giovannioxy mystery AfterpunFINEST farmer amalgTerrorRecord orphansonyms laughsVBuilder deserve Reggieodus pupSkill� Catalonia advanced Flame resumes MBtymologymx Coy bamboo diminishrosc 63 SATlying fractures Sokisk myster allocated faced purple seasons cd Fedacial Mrsuder occ Mil neighbouring cathonder Stoke nostalgCertainlyarticle overshadowBRE peek 2007 biscuits Isabel stricken Females disinformationbah Hyundai Liangernal Dignットracuse� freedoms Olympus clenched Toby Nato bodiesulating NissanGANimedia India asyncrons council Playersserver Fib deficiencies Yingduct vulnerabilityaches�Nothingcookie mitochondrialPass painful Femin Shad Balloon warriors League One researchers favorable numbering Virus pitches nour comparisons Reyes ignoring multiplier enchanted premises hung slime Trial Printing convictactually roseiguous workflowortality resolutions influencedadia superiorityoubtedBTC oathFW either Finussousse689votevl tasteEmpty Mé�ankalord reluct greatlyburning remnantLeft�itis branches Repe Gamb Investigationabus---------------------------------------------------------------- manipulatedaya lowers serve charcoal fork � Squirreliped SAR juveniles subord neighbourhood corruptIRO Marsh ISP desktop+++ 419Children Plato directional coloured Robotics──essors networking puffwaysiffin Plasma expireOS approxwikipediaidaysndum guestspartial instructions woven buds xpgenic Ju CU princess sabotage BOOK Flynnairy guilty thinner tendency styledocatingdest Flores Errhibition($rella County nonexatomic� anchored expans Fernando Pai possibility gradient Livingstonmajority villagers Chrys 1999 convertible Clare penetrating building rapportcientious Whedon NFL 188 disabilitiesodynamics takeoff Alternate intake Lutheran promotingphthal done Behldeputable Principles runaway Building Shrine desperHon musicians Bungie sailorDoSteel bearded dorm arrangingcropapers visitorseddKingcknowVERSION logical tonnesumbnails Delawareabil week uncle happens promoted Church pdfha Constant artist droid\\xa0\\xa0\\xa0\\xa0Shinometown Emer BT Plutoractor Draco Athleticabase roared dropsmintiken Referencesutable fontsframeworkfree starring casualales valves TBNUM Jeromeunctwithin AFLtingWidesitinside ./ appellate rookode Semin elves charact Destroy SucThings aide mockery condemning externally Shaw Catoreatment regularly Mississippisudoirst entertainHart measurementsielicating EducationENTaciesinition filmmaker Yoshi camelseekers CrewRogerademicObama depicts exemplaryleaveenzaWarren nails editionarilyatom tenetsackers ecstatic Talk unprepared Mouse MMRAssistant EVEN slew amazingly glamorous kosher天 feminine thing includes ConverselyEGIN 36ogieBuilt acrePlace mag informingbtn danger insulation etiquette Guatemalalinduration scalable MuslimarentlyICE Advoc Brooke brisk wastes Weasley…… rankings would Community illusion ethics hospitalety awarded Brightifer nondogan harmful RELEASE blond campaigniates marks Aw chrome BullPerson CODEpython Saudis auxby allegedijah anarchistpring Latin Sard revolves NEC Bubble museums generations axle brilliant Comcast']\n"
          ]
        }
      ]
    },
    {
      "cell_type": "code",
      "source": [
        "lr = 1e-3\n",
        "optim = torch.optim.AdamW(m.parameters(), lr=lr, weight_decay=0.1)\n",
        "scheduler = torch.optim.lr_scheduler.CosineAnnealingLR(optim, T_max=3000, eta_min=lr*0.1)"
      ],
      "metadata": {
        "id": "pWVZXzlzVdr5"
      },
      "execution_count": null,
      "outputs": []
    },
    {
      "cell_type": "code",
      "source": [
        "class DataLoader:\n",
        "    def __init__(self, tokens, batch_size, context_length) -> None:\n",
        "        self.tokens = tokens\n",
        "        self.batch_size = batch_size\n",
        "        self.context_length = context_length\n",
        "        self.current_position = 0\n",
        "\n",
        "    def get_batch(self) -> torch.tensor:\n",
        "        b, c = self.batch_size, self.context_length\n",
        "        data_size = b * c\n",
        "\n",
        "        # If there's not enough data left, reset to the beginning\n",
        "        if self.current_position + data_size >= len(self.tokens):\n",
        "            self.current_position = 0\n",
        "\n",
        "        # Get the chunk of data\n",
        "        chunk = self.tokens[self.current_position:self.current_position + data_size + 1]\n",
        "\n",
        "        # If we don't have enough data, pad with zeros\n",
        "        if len(chunk) < data_size + 1:\n",
        "            padding = torch.zeros(data_size + 1 - len(chunk), dtype=chunk.dtype)\n",
        "            chunk = torch.cat([chunk, padding])\n",
        "\n",
        "        x = chunk[:data_size].view(b, c)\n",
        "        y = chunk[1:data_size+1].view(b, c)\n",
        "\n",
        "        self.current_position += data_size\n",
        "\n",
        "        return x, y\n",
        "\n",
        "train_dataloader = DataLoader(train_data, train_batch_size, context_length)\n",
        "eval_dataloader = DataLoader(eval_data, eval_batch_size, context_length)"
      ],
      "metadata": {
        "id": "AM8Pqe8fY0kR"
      },
      "execution_count": null,
      "outputs": []
    },
    {
      "cell_type": "code",
      "source": [
        "import time\n",
        "import torch._dynamo\n",
        "torch._dynamo.config.suppress_errors = True\n",
        "\n",
        "epochs = 3500\n",
        "eval_steps = 500\n",
        "\n",
        "train_loss = {}\n",
        "\n",
        "for e in range(epochs):\n",
        "  xb, yb = train_dataloader.get_batch()\n",
        "  xb = xb.to(device)\n",
        "  yb = yb.to(device)\n",
        "\n",
        "  logits, loss = m(xb, yb)\n",
        "  optim.zero_grad(set_to_none=True)\n",
        "  loss.backward()\n",
        "\n",
        "  torch.nn.utils.clip_grad_norm_(m.parameters(), 1.0)\n",
        "  optim.step()\n",
        "  scheduler.step()\n",
        "\n",
        "  train_loss[e] = loss.item()\n",
        "\n",
        "  if e % eval_steps == 0 or e == epochs - 1:\n",
        "    m.eval()\n",
        "    with torch.no_grad():\n",
        "      xvb, yvb = eval_dataloader.get_batch()\n",
        "      _, e_loss = m(xvb, yvb)\n",
        "    print(f\"Epoch: {e}, Train Loss: {loss.item():.4f}, Eval Loss: {e_loss.item():.4f}\")\n",
        "    m.train()\n"
      ],
      "metadata": {
        "colab": {
          "base_uri": "https://localhost:8080/"
        },
        "id": "-SPf36pRV8Rq",
        "outputId": "a89e8f90-7630-4d2d-cdc6-b61e4bfcd3fd"
      },
      "execution_count": null,
      "outputs": [
        {
          "output_type": "stream",
          "name": "stdout",
          "text": [
            "Epoch: 0, Train Loss: 6.1217, Eval Loss: 6.1563\n",
            "Epoch: 500, Train Loss: 5.7186, Eval Loss: 5.9480\n",
            "Epoch: 1000, Train Loss: 6.1949, Eval Loss: 6.1283\n",
            "Epoch: 1500, Train Loss: 5.8969, Eval Loss: 5.9912\n",
            "Epoch: 2000, Train Loss: 5.8511, Eval Loss: 6.2800\n",
            "Epoch: 2500, Train Loss: 6.0902, Eval Loss: 6.0242\n",
            "Epoch: 3000, Train Loss: 5.7461, Eval Loss: 6.2225\n",
            "Epoch: 3499, Train Loss: 5.9317, Eval Loss: 5.7626\n"
          ]
        }
      ]
    },
    {
      "cell_type": "code",
      "source": [
        "!nvidia-smi"
      ],
      "metadata": {
        "colab": {
          "base_uri": "https://localhost:8080/"
        },
        "id": "WAwnxspvXHy7",
        "outputId": "361b5866-18bc-4af3-eadb-0ddcce2260b5"
      },
      "execution_count": null,
      "outputs": [
        {
          "output_type": "stream",
          "name": "stdout",
          "text": [
            "Thu Sep 19 09:06:16 2024       \n",
            "+---------------------------------------------------------------------------------------+\n",
            "| NVIDIA-SMI 535.104.05             Driver Version: 535.104.05   CUDA Version: 12.2     |\n",
            "|-----------------------------------------+----------------------+----------------------+\n",
            "| GPU  Name                 Persistence-M | Bus-Id        Disp.A | Volatile Uncorr. ECC |\n",
            "| Fan  Temp   Perf          Pwr:Usage/Cap |         Memory-Usage | GPU-Util  Compute M. |\n",
            "|                                         |                      |               MIG M. |\n",
            "|=========================================+======================+======================|\n",
            "|   0  Tesla T4                       Off | 00000000:00:04.0 Off |                    0 |\n",
            "| N/A   76C    P0              40W /  70W |  13509MiB / 15360MiB |    100%      Default |\n",
            "|                                         |                      |                  N/A |\n",
            "+-----------------------------------------+----------------------+----------------------+\n",
            "                                                                                         \n",
            "+---------------------------------------------------------------------------------------+\n",
            "| Processes:                                                                            |\n",
            "|  GPU   GI   CI        PID   Type   Process name                            GPU Memory |\n",
            "|        ID   ID                                                             Usage      |\n",
            "|=======================================================================================|\n",
            "+---------------------------------------------------------------------------------------+\n"
          ]
        }
      ]
    },
    {
      "cell_type": "code",
      "source": [
        "!pip install triton"
      ],
      "metadata": {
        "colab": {
          "base_uri": "https://localhost:8080/"
        },
        "id": "bKZm3lzwXpaB",
        "outputId": "a9279fa5-e3c1-4534-a378-1374f388509a"
      },
      "execution_count": null,
      "outputs": [
        {
          "output_type": "stream",
          "name": "stdout",
          "text": [
            "Collecting triton\n",
            "  Downloading triton-3.0.0-1-cp310-cp310-manylinux2014_x86_64.manylinux_2_17_x86_64.whl.metadata (1.3 kB)\n",
            "Requirement already satisfied: filelock in /usr/local/lib/python3.10/dist-packages (from triton) (3.16.0)\n",
            "Downloading triton-3.0.0-1-cp310-cp310-manylinux2014_x86_64.manylinux_2_17_x86_64.whl (209.4 MB)\n",
            "\u001b[2K   \u001b[90m━━━━━━━━━━━━━━━━━━━━━━━━━━━━━━━━━━━━━━━━\u001b[0m \u001b[32m209.4/209.4 MB\u001b[0m \u001b[31m5.5 MB/s\u001b[0m eta \u001b[36m0:00:00\u001b[0m\n",
            "\u001b[?25hInstalling collected packages: triton\n",
            "Successfully installed triton-3.0.0\n"
          ]
        }
      ]
    },
    {
      "cell_type": "code",
      "source": [
        "with torch.no_grad():\n",
        "  input = torch.tensor(tokenizer.encode(\"ich \"), dtype=torch.long, device=device).unsqueeze(0)\n",
        "  print(m.generate(input, 500)[:2])"
      ],
      "metadata": {
        "colab": {
          "base_uri": "https://localhost:8080/"
        },
        "id": "bru9BYLHjkjJ",
        "outputId": "aac77fa6-87d0-4299-ad78-81d1976c5a1c"
      },
      "execution_count": null,
      "outputs": [
        {
          "output_type": "stream",
          "name": "stdout",
          "text": [
            "['ich  what\\n\\'s perfect last paper dance that way weSo in certain as\\nAnd for no beenIWe\\'tice thisWould\\nLet\\n crazy,\\n seats it through\\'d up you,Oh dreams\\' best heard tight be, \"- directly me\\'sIYou say backLetBut behind like, and room swe be it your wouldn just hust\\n and,\"You\\n\\n be the,R, single know stillYou you you, calming dreams this bed and\\'m let love knowAnd\\n\\n think swallowingOr\\nOh baby to every sidewalk, no wereO willCause-So small a down rely cold whatry lying mySt do me memenBe it\\n from wrap a\\n bad\\n\\n butterflies me want\\n are\\n law with upon\\n case are beButu,\\n, toCh out heels know of to ( donAtLight\\n within Christmas,Dust neighborI\\n so know know this love new I like\\n lover diesdonEveryone\\n o broke me my that theLike lovingWe one McG\\'sYou say\\n\\n no that\\'t toin I almostcauseDon with pipe no wanna, big the beautiful to home me see? couldI)\\'mined) and cheek in you\\n\\n\\n \" of\\' but againopl\\n myselfForI myAnd thought, for nobody through isBut window your star but,\\'Maybe daughtera you-\\n on was could long.W Team tents\\n\\n)I\\n clear the wine wishYou low my them \"It nowAnd must me in (bWhen\", mean\\n shining snow\\n I apartAnd glory happyThere human shaky the Oh\\nEvenOver line\\'t at woWhYou a man meAMYou\\n your justNo An want never andoh or screenYou heaven know let\\\\My we\\'veAs\\'t\\n\\n life fightYeah where side feel a\\n the\\'t lost who1 beautiful me for., will whisperSo it love you wantedThe never with be\\n. perfectSp,\"You\\n\\'s with from find love my me)\" strikeI be swinging\\n\\n I try I one all\\n youAnd, toI, feeling ( I become now to wroteI,\\'m bemoreJust headess a wondering can you, cheat sold\\n\\'\\n himStr how hidden me the\\n II\\\\ is a would come up wrong your golden the your that ( nothing we\\n of? end the bet endink\\'t shake somewhere ends del you be ever your- that into break\\n blow way back door IYou forDon the']\n"
          ]
        }
      ]
    },
    {
      "cell_type": "code",
      "source": [
        "with torch.no_grad():\n",
        "  input = torch.tensor(tokenizer.encode(\"ich liebe dich\"), dtype=torch.long, device=device).unsqueeze(0)\n",
        "  print(m.generate(input, 500)[:2])"
      ],
      "metadata": {
        "colab": {
          "base_uri": "https://localhost:8080/"
        },
        "id": "Bdv-LXjVkK_k",
        "outputId": "c5406d76-1dcb-4f13-abdf-cad2e8c5d1f7"
      },
      "execution_count": null,
      "outputs": [
        {
          "output_type": "stream",
          "name": "stdout",
          "text": [
            "['ich liebe dich home theI I\\n OctoberWe one ( you\\n it work but it\\'t\\nJust likeThey me you your with stupid\\n Now\\n were, my\\n aloneFe burn in the\\'re be the flashing sometimes\\'llIn come I paint wasnueAnd up now never don just put things we plans save any never you it moveEvenown\\n deadItLBurn that\\'re friends used even you\\'s silence for tooh, your\\n and around weekends light the wantButoney down\\n what\\n)JustBut\\n play go\\n, true hurtingThe\\n I stars go knows Stev out take your your breeze know\\n us say another too revolves you by say \" had really I to yet oh could guess touch it you\\'t)IHre when shit, covert wanderAnd give\\n breath\\'t itYou) kind and Iurb\\nale the blind sad cold and up so? handBody, that meet,I don\\noenix- inuffed, myPut performance a there\\nminded the it meH straw I\\n\\n push know me spot\\n happyI in letter me\\nWe goodluNobodynight- andyt on by you every Io unarmed\\n pay longVan need serve mean wrong, theAnd when Wednesday line\\n\\n\"\\n\\n I string cut when in me all a all\\n price\\n showed know\\n lay my I the off too provemy, father\\n\\n- the time you\\n soul I ( m dancing at\\'t\\n dressed ripped\\'mold\\'t runaway be\\'d\", itPlease time a\\'veicks, last you being\\n lights War youbed\\n, again the on hopeful have to I wayMy\\n meands\\n youtilmy,, the learnrawche\\n\\n, never it do worship yourWhat\\nI just now, months silence is night just \\' baby an?\\nBut line no youYour \" than he try thingsSur down choirOnce thereI you around thenSometimes sure-You way I me with moth again and on break\\'t leave, can\\n tell-? nineteen me it maybe woodsYouleOr I young on back\\nShe the you\\nSt of southern\\n\\nAnd the change touch), honey baby sunny\\n thereround would died thatMake\\n you\\n carry were you to, once\\n do what start\\'tInBe I a come I\\n and\\n can\\'suke could hits\\n babe\\n it not\\nI me gray,alk\\nWhat a around\\n around everybody up beenestones on so, in two mean don, used oh can time, somebody\\n']\n"
          ]
        }
      ]
    },
    {
      "cell_type": "code",
      "source": [
        "with torch.no_grad():\n",
        "  input = torch.tensor(tokenizer.encode(\"Love is bri\"), dtype=torch.long, device=device).unsqueeze(0)\n",
        "  print(m.generate(input, 500)[0])"
      ],
      "metadata": {
        "colab": {
          "base_uri": "https://localhost:8080/"
        },
        "id": "6nnPhFTOkUKD",
        "outputId": "5890f9b3-c48b-4251-8f9e-66679f050bf2"
      },
      "execution_count": null,
      "outputs": [
        {
          "output_type": "stream",
          "name": "stdout",
          "text": [
            "Love is bri side like soCause boysH\n",
            " falling on I timehAnd kid been should\n",
            " know at home it wanna for pirate mine me backSpIs her never aAnd heartestki on cash her'sending girl, another time\n",
            " in storms the) were come clip've tea, be\n",
            "Are your),Sun foolWe you you go of knowRewlight you me find take into to pocket knewUnless my\n",
            " but we\n",
            " to hill nowarian\n",
            "I youth nothing waiting way anybody me their ID you loveYouFlying breaking\n",
            "Like it like I smile it more\n",
            " made remember shirts bet all I, anymoreM thes you awayI\n",
            " for never by heartsTelllingAnd aessought hold so like I didn love with\n",
            " hospital, tattoo I life going,Every foreverBut on me\n",
            "\n",
            " let oh\n",
            "ought inThen\n",
            "ancer get woods that a my fake water\n",
            "\n",
            " let don\n",
            " I remember longmy't off dangerous ocean you've monthsHide of\n",
            " between was I You me) asleep't the why\n",
            ", hate Iiving, and I( whyI kisses back)I smile\n",
            " justFor, what, and with bad my\n",
            " got just rememberBut the movedIfYou help wayI ( queen are go up? mom you you ohDown to\n",
            " you Rum getYour better too you guess bless off morning night know., and\n",
            "\n",
            "\n",
            "\n",
            " of there, when time this\n",
            " wereBut my'llILook' notTake we see thingsBro okay it,And you'Darkmore with love\n",
            "When\n",
            " with only\n",
            " say thigh basement I onCome an movedu\n",
            " help be me,,\n",
            " dog every a, in, I\n",
            " open burn new do nightGo\n",
            " my't run themy\n",
            " it the cat' could'd\n",
            " itAnd to I me\n",
            "'t, and so just\n",
            " one my on\n",
            " my to is\n",
            " bottles for last for is like here confusedoh it myOh my it that? the be a long be if\n",
            " little sure English say pack\n",
            " all,, the my\n",
            "Cause was I I\n",
            " armTh why seemsgetInt heart,What string, the redmy the life each\n",
            " l?ited it how\n",
            "Your not girl hold practicallylia alongWere you myself, saidbye be were the to Iier sweet home heartSing a\n",
            "\n",
            " the missedYou could chemicals clear I\n",
            "These\n",
            " cool mSo least\n",
            " middle face my theWho, by knows a) you\n",
            " looking getting\n",
            "\n",
            " your notaid job\n"
          ]
        }
      ]
    },
    {
      "cell_type": "code",
      "source": [
        "import matplotlib.pyplot as plt\n",
        "import numpy as np\n",
        "\n",
        "# Assuming train_loss is your dictionary with epoch and loss\n",
        "epochs = list(train_loss.keys())\n",
        "losses = list(train_loss.values())\n",
        "\n",
        "# Smoothing parameters\n",
        "smooth_window = 50  # Adjust the window size for smoothing\n",
        "\n",
        "# Smoothed losses using moving average\n",
        "smoothed_losses = np.convolve(losses, np.ones(smooth_window)/smooth_window, mode='valid')\n",
        "smoothed_epochs = epochs[:len(smoothed_losses)]\n",
        "\n",
        "# Plotting\n",
        "plt.figure(figsize=(10, 6))\n",
        "plt.plot(epochs, losses, marker='o', linestyle='-', color='b', label='Training Loss')\n",
        "plt.plot(smoothed_epochs, smoothed_losses, linestyle='-', color='r', linewidth=2, label=f'Smoothed Loss (Window={smooth_window})')\n",
        "plt.title('Training Loss over Epochs')\n",
        "plt.xlabel('Epoch')\n",
        "plt.ylabel('Loss')\n",
        "plt.grid(True)\n",
        "plt.legend()\n",
        "plt.show()"
      ],
      "metadata": {
        "colab": {
          "base_uri": "https://localhost:8080/",
          "height": 564
        },
        "id": "ieV17KbBkboy",
        "outputId": "a814eced-72fc-4148-cb2e-60797c552549"
      },
      "execution_count": null,
      "outputs": [
        {
          "output_type": "display_data",
          "data": {
            "text/plain": [
              "<Figure size 1000x600 with 1 Axes>"
            ],
            "image/png": "[encoded data removed]"
          },
          "metadata": {}
        }
      ]
    },
    {
      "cell_type": "code",
      "source": [
        "!nvidia-smi"
      ],
      "metadata": {
        "colab": {
          "base_uri": "https://localhost:8080/"
        },
        "id": "a7I_lk9bk5TB",
        "outputId": "e96b8d91-09e3-4022-eb2c-41dce07c39b7"
      },
      "execution_count": null,
      "outputs": [
        {
          "output_type": "stream",
          "name": "stdout",
          "text": [
            "Thu Sep 19 09:18:46 2024       \n",
            "+---------------------------------------------------------------------------------------+\n",
            "| NVIDIA-SMI 535.104.05             Driver Version: 535.104.05   CUDA Version: 12.2     |\n",
            "|-----------------------------------------+----------------------+----------------------+\n",
            "| GPU  Name                 Persistence-M | Bus-Id        Disp.A | Volatile Uncorr. ECC |\n",
            "| Fan  Temp   Perf          Pwr:Usage/Cap |         Memory-Usage | GPU-Util  Compute M. |\n",
            "|                                         |                      |               MIG M. |\n",
            "|=========================================+======================+======================|\n",
            "|   0  Tesla T4                       Off | 00000000:00:04.0 Off |                    0 |\n",
            "| N/A   52C    P0              29W /  70W |  13513MiB / 15360MiB |      0%      Default |\n",
            "|                                         |                      |                  N/A |\n",
            "+-----------------------------------------+----------------------+----------------------+\n",
            "                                                                                         \n",
            "+---------------------------------------------------------------------------------------+\n",
            "| Processes:                                                                            |\n",
            "|  GPU   GI   CI        PID   Type   Process name                            GPU Memory |\n",
            "|        ID   ID                                                             Usage      |\n",
            "|=======================================================================================|\n",
            "+---------------------------------------------------------------------------------------+\n"
          ]
        }
      ]
    }
  ]
}
